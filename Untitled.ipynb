{
 "cells": [
  {
   "cell_type": "code",
   "execution_count": 1,
   "metadata": {},
   "outputs": [
    {
     "name": "stdout",
     "output_type": "stream",
     "text": [
      "-----------------------------------\n",
      "Hello INTJ intj\n",
      "there ADV advmod\n",
      ", PUNCT punct\n",
      "my DET poss\n",
      "name NOUN nsubj\n",
      "is AUX ROOT\n",
      "John PROPN attr\n",
      ". PUNCT punct\n",
      "I PRON nsubj\n",
      "am AUX ROOT\n",
      "a DET det\n",
      "huge ADJ amod\n",
      "Star PROPN compound\n",
      "Wars PROPN compound\n",
      "fan NOUN attr\n",
      "and CCONJ cc\n",
      "also ADV advmod\n",
      "like SCONJ conj\n",
      "Ferrari PROPN pobj\n",
      ". PUNCT punct\n"
     ]
    }
   ],
   "source": [
    "import spacy\n",
    "from spacy import displacy\n",
    "\n",
    "nlp = spacy.load(\"en_core_web_sm\")\n",
    "nlp_de = spacy.load(\"de_core_news_sm\")\n",
    "\n",
    "text = (\"Hello there, my name is John. I am a huge Star Wars fan and also like Ferrari.\")\n",
    "\n",
    "doc = nlp(text)\n",
    "\n",
    "print('-----------------------------------')\n",
    "for token in doc:\n",
    "    print(token.text, token.pos_, token.dep_)"
   ]
  },
  {
   "cell_type": "code",
   "execution_count": 3,
   "metadata": {},
   "outputs": [
    {
     "name": "stdout",
     "output_type": "stream",
     "text": [
      "CPython 3.7.4\n",
      "IPython 7.8.0\n",
      "\n",
      "numpy 1.17.2\n",
      "spacy 2.2.3\n",
      "watermark 2.0.2\n",
      "\n",
      "compiler   : GCC 7.3.0\n",
      "system     : Linux\n",
      "release    : 5.4.2-1-MANJARO\n",
      "machine    : x86_64\n",
      "processor  : \n",
      "CPU cores  : 4\n",
      "interpreter: 64bit\n",
      " \n",
      "last updated: Sun Dec 15 2019 16:51:15 CET\n"
     ]
    }
   ],
   "source": [
    "%load_ext watermark\n",
    "\n",
    "%watermark -v -m -p numpy,spacy,watermark\n",
    "\n",
    "print(\" \")\n",
    "%watermark -u -n -t -z"
   ]
  },
  {
   "cell_type": "code",
   "execution_count": null,
   "metadata": {},
   "outputs": [],
   "source": []
  }
 ],
 "metadata": {
  "kernelspec": {
   "display_name": "Python 3",
   "language": "python",
   "name": "python3"
  },
  "language_info": {
   "codemirror_mode": {
    "name": "ipython",
    "version": 3
   },
   "file_extension": ".py",
   "mimetype": "text/x-python",
   "name": "python",
   "nbconvert_exporter": "python",
   "pygments_lexer": "ipython3",
   "version": "3.7.4"
  }
 },
 "nbformat": 4,
 "nbformat_minor": 4
}
